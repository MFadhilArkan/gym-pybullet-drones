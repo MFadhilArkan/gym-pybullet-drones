{
 "cells": [
  {
   "cell_type": "code",
   "execution_count": 12,
   "id": "identified-instrumentation",
   "metadata": {
    "ExecuteTime": {
     "end_time": "2021-02-06T15:58:50.639631Z",
     "start_time": "2021-02-06T15:58:32.696562Z"
    }
   },
   "outputs": [],
   "source": [
    "import stable_baselines3\n",
    "import gym\n",
    "import pybullet as p\n",
    "from collections import OrderedDict "
   ]
  },
  {
   "cell_type": "code",
   "execution_count": 13,
   "id": "young-directory",
   "metadata": {
    "ExecuteTime": {
     "end_time": "2021-02-06T15:59:18.924075Z",
     "start_time": "2021-02-06T15:58:50.941924Z"
    }
   },
   "outputs": [],
   "source": [
    "from gym_pybullet_drones.envs.multi_agent_rl.PayloadCoop import PayloadCoop\n",
    "from gym_pybullet_drones.envs.multi_agent_rl.FlockAviary import FlockAviary"
   ]
  },
  {
   "cell_type": "code",
   "execution_count": 19,
   "id": "curious-solution",
   "metadata": {
    "ExecuteTime": {
     "end_time": "2021-02-06T15:59:19.318299Z",
     "start_time": "2021-02-06T15:59:19.062643Z"
    }
   },
   "outputs": [
    {
     "name": "stdout",
     "output_type": "stream",
     "text": [
      "[INFO] BaseAviary.__init__() loaded parameters from the drone's .urdf:\n",
      "[INFO] m 0.027000, L 0.039700,\n",
      "[INFO] ixx 0.000014, iyy 0.000014, izz 0.000022,\n",
      "[INFO] kf 0.000000, km 0.000000,\n",
      "[INFO] t2w 2.250000, max_speed_kmh 30.000000,\n",
      "[INFO] gnd_eff_coeff 11.368590, prop_radius 0.023135,\n",
      "[INFO] drag_xy_coeff 0.000001, drag_z_coeff 0.000001,\n",
      "[INFO] dw_coeff_1 2267.180000, dw_coeff_2 0.160000, dw_coeff_3 -0.110000\n"
     ]
    }
   ],
   "source": [
    "env =PayloadCoop(dest_point = [1,1,1], gui = False)"
   ]
  },
  {
   "cell_type": "code",
   "execution_count": 33,
   "id": "nuclear-moscow",
   "metadata": {},
   "outputs": [],
   "source": [
    "import numpy as np"
   ]
  },
  {
   "cell_type": "code",
   "execution_count": 39,
   "id": "controlled-flush",
   "metadata": {},
   "outputs": [
    {
     "data": {
      "text/plain": [
       "-174.28940686250036"
      ]
     },
     "execution_count": 39,
     "metadata": {},
     "output_type": "execute_result"
    }
   ],
   "source": [
    "x1 = np.array([0, 0])\n",
    "x2 = np.array([-1, -10])\n",
    "x = x2-x1\n",
    "np.arctan2(x[0], x[1]) * 180 / np.pi"
   ]
  },
  {
   "cell_type": "code",
   "execution_count": null,
   "id": "unable-decline",
   "metadata": {},
   "outputs": [],
   "source": [
    "-178 < theta < 180"
   ]
  },
  {
   "cell_type": "code",
   "execution_count": 43,
   "id": "moderate-interval",
   "metadata": {},
   "outputs": [
    {
     "data": {
      "text/plain": [
       "1"
      ]
     },
     "execution_count": 43,
     "metadata": {},
     "output_type": "execute_result"
    }
   ],
   "source": [
    "(181 % 180)"
   ]
  },
  {
   "cell_type": "code",
   "execution_count": null,
   "id": "turkish-clothing",
   "metadata": {},
   "outputs": [],
   "source": []
  }
 ],
 "metadata": {
  "kernelspec": {
   "display_name": "Python 3",
   "language": "python",
   "name": "python3"
  },
  "language_info": {
   "codemirror_mode": {
    "name": "ipython",
    "version": 3
   },
   "file_extension": ".py",
   "mimetype": "text/x-python",
   "name": "python",
   "nbconvert_exporter": "python",
   "pygments_lexer": "ipython3",
   "version": "3.6.12"
  },
  "toc": {
   "base_numbering": 1,
   "nav_menu": {},
   "number_sections": true,
   "sideBar": true,
   "skip_h1_title": false,
   "title_cell": "Table of Contents",
   "title_sidebar": "Contents",
   "toc_cell": false,
   "toc_position": {},
   "toc_section_display": true,
   "toc_window_display": false
  },
  "varInspector": {
   "cols": {
    "lenName": 16,
    "lenType": 16,
    "lenVar": 40
   },
   "kernels_config": {
    "python": {
     "delete_cmd_postfix": "",
     "delete_cmd_prefix": "del ",
     "library": "var_list.py",
     "varRefreshCmd": "print(var_dic_list())"
    },
    "r": {
     "delete_cmd_postfix": ") ",
     "delete_cmd_prefix": "rm(",
     "library": "var_list.r",
     "varRefreshCmd": "cat(var_dic_list()) "
    }
   },
   "types_to_exclude": [
    "module",
    "function",
    "builtin_function_or_method",
    "instance",
    "_Feature"
   ],
   "window_display": false
  }
 },
 "nbformat": 4,
 "nbformat_minor": 5
}
