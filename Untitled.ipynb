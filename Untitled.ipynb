{
 "cells": [
  {
   "cell_type": "code",
   "execution_count": 1,
   "id": "identified-instrumentation",
   "metadata": {
    "ExecuteTime": {
     "end_time": "2021-02-06T15:58:50.639631Z",
     "start_time": "2021-02-06T15:58:32.696562Z"
    }
   },
   "outputs": [],
   "source": [
    "import stable_baselines3\n",
    "import gym\n",
    "import pybullet as p"
   ]
  },
  {
   "cell_type": "code",
   "execution_count": 2,
   "id": "unsigned-jungle",
   "metadata": {
    "ExecuteTime": {
     "end_time": "2021-02-06T15:58:50.802262Z",
     "start_time": "2021-02-06T15:58:50.786239Z"
    }
   },
   "outputs": [],
   "source": [
    "from stable_baselines3.common.env_checker import check_env"
   ]
  },
  {
   "cell_type": "code",
   "execution_count": 3,
   "id": "young-directory",
   "metadata": {
    "ExecuteTime": {
     "end_time": "2021-02-06T15:59:18.924075Z",
     "start_time": "2021-02-06T15:58:50.941924Z"
    }
   },
   "outputs": [
    {
     "name": "stdout",
     "output_type": "stream",
     "text": [
      "WARNING:tensorflow:From E:\\Anaconda\\envs\\TA\\lib\\site-packages\\tensorflow_core\\python\\compat\\v2_compat.py:65: disable_resource_variables (from tensorflow.python.ops.variable_scope) is deprecated and will be removed in a future version.\n",
      "Instructions for updating:\n",
      "non-resource variables are not supported in the long term\n"
     ]
    }
   ],
   "source": [
    "from gym_pybullet_drones.envs.multi_agent_rl.PayloadCoop import PayloadCoop\n",
    "from gym_pybullet_drones.envs.multi_agent_rl.FlockAviary import FlockAviary"
   ]
  },
  {
   "cell_type": "code",
   "execution_count": 4,
   "id": "curious-solution",
   "metadata": {
    "ExecuteTime": {
     "end_time": "2021-02-06T15:59:19.318299Z",
     "start_time": "2021-02-06T15:59:19.062643Z"
    }
   },
   "outputs": [
    {
     "name": "stdout",
     "output_type": "stream",
     "text": [
      "[INFO] BaseAviary.__init__() loaded parameters from the drone's .urdf:\n",
      "[INFO] m 0.027000, L 0.039700,\n",
      "[INFO] ixx 0.000014, iyy 0.000014, izz 0.000022,\n",
      "[INFO] kf 0.000000, km 0.000000,\n",
      "[INFO] t2w 2.250000, max_speed_kmh 30.000000,\n",
      "[INFO] gnd_eff_coeff 11.368590, prop_radius 0.023135,\n",
      "[INFO] drag_xy_coeff 0.000001, drag_z_coeff 0.000001,\n",
      "[INFO] dw_coeff_1 2267.180000, dw_coeff_2 0.160000, dw_coeff_3 -0.110000\n"
     ]
    },
    {
     "name": "stderr",
     "output_type": "stream",
     "text": [
      "E:\\Anaconda\\envs\\TA\\lib\\site-packages\\gym\\logger.py:30: UserWarning: \u001b[33mWARN: Box bound precision lowered by casting to float32\u001b[0m\n",
      "  warnings.warn(colorize('%s: %s'%('WARN', msg % args), 'yellow'))\n"
     ]
    }
   ],
   "source": [
    "env = FlockAviary()"
   ]
  },
  {
   "cell_type": "code",
   "execution_count": 5,
   "id": "cleared-kernel",
   "metadata": {
    "ExecuteTime": {
     "end_time": "2021-02-06T15:59:19.808884Z",
     "start_time": "2021-02-06T15:59:19.492834Z"
    }
   },
   "outputs": [
    {
     "name": "stderr",
     "output_type": "stream",
     "text": [
      "E:\\Anaconda\\envs\\TA\\lib\\site-packages\\stable_baselines3\\common\\env_checker.py:53: UserWarning: The observation space is a Dict but the environment is not a gym.GoalEnv (cf https://github.com/openai/gym/blob/master/gym/core.py), this is currently not supported by Stable Baselines (cf https://github.com/hill-a/stable-baselines/issues/133), you will need to use a custom policy. \n",
      "  \"The observation space is a Dict but the environment is not a gym.GoalEnv \"\n",
      "E:\\Anaconda\\envs\\TA\\lib\\site-packages\\stable_baselines3\\common\\env_checker.py:70: UserWarning: The action space is not based off a numpy array. Typically this means it's either a Dict or Tuple space. This type of action space is currently not supported by Stable Baselines 3. You should try to flatten the action using a wrapper.\n",
      "  \"The action space is not based off a numpy array. Typically this means it's either a Dict or Tuple space. \"\n",
      "ERROR:root:Internal Python error in the inspect module.\n",
      "Below is the traceback from this internal error.\n",
      "\n"
     ]
    },
    {
     "name": "stdout",
     "output_type": "stream",
     "text": [
      "Traceback (most recent call last):\n",
      "  File \"E:\\Anaconda\\envs\\TA\\lib\\site-packages\\IPython\\core\\interactiveshell.py\", line 2878, in run_code\n",
      "    exec(code_obj, self.user_global_ns, self.user_ns)\n",
      "  File \"<ipython-input-5-0f6792f977ee>\", line 1, in <module>\n",
      "    check_env(env)\n",
      "  File \"E:\\Anaconda\\envs\\TA\\lib\\site-packages\\stable_baselines3\\common\\env_checker.py\", line 237, in check_env\n",
      "    _check_returned_values(env, observation_space, action_space)\n",
      "  File \"E:\\Anaconda\\envs\\TA\\lib\\site-packages\\stable_baselines3\\common\\env_checker.py\", line 128, in _check_returned_values\n",
      "    assert isinstance(reward, (float, int)), \"The reward returned by `step()` must be a float\"\n",
      "AssertionError: The reward returned by `step()` must be a float\n",
      "\n",
      "During handling of the above exception, another exception occurred:\n",
      "\n",
      "Traceback (most recent call last):\n",
      "  File \"E:\\Anaconda\\envs\\TA\\lib\\site-packages\\IPython\\core\\interactiveshell.py\", line 1823, in showtraceback\n",
      "    stb = value._render_traceback_()\n",
      "AttributeError: 'AssertionError' object has no attribute '_render_traceback_'\n",
      "\n",
      "During handling of the above exception, another exception occurred:\n",
      "\n",
      "Traceback (most recent call last):\n",
      "  File \"E:\\Anaconda\\envs\\TA\\lib\\site-packages\\IPython\\core\\ultratb.py\", line 1132, in get_records\n",
      "    return _fixed_getinnerframes(etb, number_of_lines_of_context, tb_offset)\n",
      "  File \"E:\\Anaconda\\envs\\TA\\lib\\site-packages\\IPython\\core\\ultratb.py\", line 313, in wrapped\n",
      "    return f(*args, **kwargs)\n",
      "  File \"E:\\Anaconda\\envs\\TA\\lib\\site-packages\\IPython\\core\\ultratb.py\", line 358, in _fixed_getinnerframes\n",
      "    records = fix_frame_records_filenames(inspect.getinnerframes(etb, context))\n",
      "  File \"E:\\Anaconda\\envs\\TA\\lib\\inspect.py\", line 1490, in getinnerframes\n",
      "    frameinfo = (tb.tb_frame,) + getframeinfo(tb, context)\n",
      "  File \"E:\\Anaconda\\envs\\TA\\lib\\inspect.py\", line 1448, in getframeinfo\n",
      "    filename = getsourcefile(frame) or getfile(frame)\n",
      "  File \"E:\\Anaconda\\envs\\TA\\lib\\inspect.py\", line 696, in getsourcefile\n",
      "    if getattr(getmodule(object, filename), '__loader__', None) is not None:\n",
      "  File \"E:\\Anaconda\\envs\\TA\\lib\\inspect.py\", line 733, in getmodule\n",
      "    if ismodule(module) and hasattr(module, '__file__'):\n",
      "  File \"E:\\Anaconda\\envs\\TA\\lib\\site-packages\\tensorflow\\__init__.py\", line 50, in __getattr__\n",
      "    module = self._load()\n",
      "  File \"E:\\Anaconda\\envs\\TA\\lib\\site-packages\\tensorflow\\__init__.py\", line 44, in _load\n",
      "    module = _importlib.import_module(self.__name__)\n",
      "  File \"E:\\Anaconda\\envs\\TA\\lib\\importlib\\__init__.py\", line 126, in import_module\n",
      "    return _bootstrap._gcd_import(name[level:], package, level)\n",
      "  File \"<frozen importlib._bootstrap>\", line 994, in _gcd_import\n",
      "  File \"<frozen importlib._bootstrap>\", line 971, in _find_and_load\n",
      "  File \"<frozen importlib._bootstrap>\", line 953, in _find_and_load_unlocked\n",
      "ModuleNotFoundError: No module named 'tensorflow_core.estimator'\n"
     ]
    },
    {
     "ename": "AssertionError",
     "evalue": "The reward returned by `step()` must be a float",
     "output_type": "error",
     "traceback": [
      "\u001b[1;31m---------------------------------------------------------------------------\u001b[0m"
     ]
    }
   ],
   "source": [
    "check_env(env)"
   ]
  },
  {
   "cell_type": "code",
   "execution_count": 21,
   "id": "decent-fruit",
   "metadata": {
    "ExecuteTime": {
     "end_time": "2021-02-06T15:49:23.141193Z",
     "start_time": "2021-02-06T15:49:23.130220Z"
    }
   },
   "outputs": [
    {
     "data": {
      "text/plain": [
       "{0: array([ 0.    ,  0.    ,  0.0225,  0.    , -0.    ,  0.    ,  0.    ,\n",
       "         0.    ,  0.    ,  0.    ,  0.    ,  0.    ]),\n",
       " 1: array([ 0.01058667,  0.01058667,  0.0225    ,  0.        , -0.        ,\n",
       "         0.        ,  0.        ,  0.        ,  0.        ,  0.        ,\n",
       "         0.        ,  0.        ])}"
      ]
     },
     "execution_count": 21,
     "metadata": {},
     "output_type": "execute_result"
    }
   ],
   "source": [
    "env._computeObs()"
   ]
  },
  {
   "cell_type": "code",
   "execution_count": 22,
   "id": "indoor-kennedy",
   "metadata": {
    "ExecuteTime": {
     "end_time": "2021-02-06T15:49:24.407340Z",
     "start_time": "2021-02-06T15:49:24.324562Z"
    }
   },
   "outputs": [
    {
     "data": {
      "text/plain": [
       "{0: array([ 0.    ,  0.    ,  0.0225,  0.    , -0.    ,  0.    ,  0.    ,\n",
       "         0.    ,  0.    ,  0.    ,  0.    ,  0.    ]),\n",
       " 1: array([ 0.01058667,  0.01058667,  0.0225    ,  0.        , -0.        ,\n",
       "         0.        ,  0.        ,  0.        ,  0.        ,  0.        ,\n",
       "         0.        ,  0.        ])}"
      ]
     },
     "execution_count": 22,
     "metadata": {},
     "output_type": "execute_result"
    }
   ],
   "source": [
    "env.reset()"
   ]
  },
  {
   "cell_type": "code",
   "execution_count": 23,
   "id": "human-exposure",
   "metadata": {
    "ExecuteTime": {
     "end_time": "2021-02-06T15:49:25.993252Z",
     "start_time": "2021-02-06T15:49:25.909478Z"
    }
   },
   "outputs": [
    {
     "data": {
      "text/plain": [
       "12"
      ]
     },
     "execution_count": 23,
     "metadata": {},
     "output_type": "execute_result"
    }
   ],
   "source": [
    "len(env.reset()[1])"
   ]
  },
  {
   "cell_type": "code",
   "execution_count": 24,
   "id": "greatest-expression",
   "metadata": {
    "ExecuteTime": {
     "end_time": "2021-02-06T15:49:26.596937Z",
     "start_time": "2021-02-06T15:49:26.587960Z"
    }
   },
   "outputs": [
    {
     "name": "stderr",
     "output_type": "stream",
     "text": [
      "E:\\Anaconda\\envs\\TA\\lib\\site-packages\\gym\\logger.py:30: UserWarning: \u001b[33mWARN: Box bound precision lowered by casting to float32\u001b[0m\n",
      "  warnings.warn(colorize('%s: %s'%('WARN', msg % args), 'yellow'))\n"
     ]
    },
    {
     "data": {
      "text/plain": [
       "OrderedDict([(0,\n",
       "              array([ 0.9367061 , -0.2540732 ,  0.08095036,  0.906072  , -0.01027075,\n",
       "                      0.09043042,  0.2598533 , -0.30314845, -0.06780128,  0.58054274,\n",
       "                      0.25163844,  0.44907278], dtype=float32)),\n",
       "             (1,\n",
       "              array([-0.9556712 ,  0.08964896,  0.93732375,  0.41915745,  0.89191175,\n",
       "                     -0.12801604, -0.77408373,  0.5760877 , -0.3620249 ,  0.33959964,\n",
       "                      0.8035786 , -0.4000042 ], dtype=float32))])"
      ]
     },
     "execution_count": 24,
     "metadata": {},
     "output_type": "execute_result"
    }
   ],
   "source": [
    "env._observationSpace().sample()"
   ]
  }
 ],
 "metadata": {
  "kernelspec": {
   "display_name": "Python 3",
   "language": "python",
   "name": "python3"
  },
  "language_info": {
   "codemirror_mode": {
    "name": "ipython",
    "version": 3
   },
   "file_extension": ".py",
   "mimetype": "text/x-python",
   "name": "python",
   "nbconvert_exporter": "python",
   "pygments_lexer": "ipython3",
   "version": "3.6.12"
  },
  "toc": {
   "base_numbering": 1,
   "nav_menu": {},
   "number_sections": true,
   "sideBar": true,
   "skip_h1_title": false,
   "title_cell": "Table of Contents",
   "title_sidebar": "Contents",
   "toc_cell": false,
   "toc_position": {},
   "toc_section_display": true,
   "toc_window_display": false
  },
  "varInspector": {
   "cols": {
    "lenName": 16,
    "lenType": 16,
    "lenVar": 40
   },
   "kernels_config": {
    "python": {
     "delete_cmd_postfix": "",
     "delete_cmd_prefix": "del ",
     "library": "var_list.py",
     "varRefreshCmd": "print(var_dic_list())"
    },
    "r": {
     "delete_cmd_postfix": ") ",
     "delete_cmd_prefix": "rm(",
     "library": "var_list.r",
     "varRefreshCmd": "cat(var_dic_list()) "
    }
   },
   "types_to_exclude": [
    "module",
    "function",
    "builtin_function_or_method",
    "instance",
    "_Feature"
   ],
   "window_display": false
  }
 },
 "nbformat": 4,
 "nbformat_minor": 5
}
